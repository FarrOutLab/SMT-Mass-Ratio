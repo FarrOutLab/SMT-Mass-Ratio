{
 "cells": [
  {
   "cell_type": "code",
   "execution_count": null,
   "id": "8e6f0329",
   "metadata": {},
   "outputs": [],
   "source": [
    "import jax.numpy as jnp\n",
    "import matplotlib.pyplot as plt\n",
    "import matplotlib\n",
    "\n",
    "from ipywidgets import interactive"
   ]
  },
  {
   "cell_type": "code",
   "execution_count": 27,
   "id": "b4a54054",
   "metadata": {},
   "outputs": [],
   "source": [
    "class q_crit():\n",
    "\n",
    "    def __init__(\n",
    "        self,\n",
    "        q_min = 0.01,\n",
    "        q_max = 8,\n",
    "        steps = 10000\n",
    "    ):\n",
    "        self.qs = jnp.linspace(q_min, q_max, steps)\n",
    "        self.betas = jnp.linspace(0,1,steps).reshape(-1,1)\n",
    "        self.zeta_RLs = self.zeta_RL()\n",
    "        \n",
    "    def zeta_RL(self):\n",
    "        # part 1\n",
    "        part1 =  -2. * (1. - self.betas*self.qs - (1. - self.betas) * (self.qs + 1./2.) * (self.qs / (self.qs + 1.) )  )\n",
    "\n",
    "        #part 2\n",
    "        A = (self.qs**(1./3.)) / 3.\n",
    "        B = 2./(self.qs**(1./3.))\n",
    "        C = (  1.2 * self.qs**(1./3.) +  1./(1. + self.qs**(1./3)) ) / (0.6 * self.qs**(2./3.) + jnp.log(1 + self.qs**(1./3.) ) )\n",
    "        part2 =  A * (B - C)\n",
    "\n",
    "        #part 3\n",
    "        part3 =  1. + self.betas*self.qs\n",
    "        return part1 + part2 * part3\n",
    "\n",
    "    def __call__(\n",
    "            self,\n",
    "            zeta_eff, \n",
    "            beta):\n",
    "        beta_idx = jnp.abs(self.betas.reshape(-1) - beta).argmin()\n",
    "        idx = jnp.abs(self.zeta_RLs[beta_idx] - zeta_eff).argmin()\n",
    "        return self.qs[idx]"
   ]
  },
  {
   "cell_type": "code",
   "execution_count": 4,
   "id": "0ce70ae9",
   "metadata": {},
   "outputs": [],
   "source": [
    "def _q_bh(q_zams, beta_a = 0.5, fsn_a = 0.2, fsn_b = 0.2, fcore = 0.34):\n",
    "    return (1 - fsn_a) / (1 - fsn_b) * (q_zams + beta_a * (1 - fcore))\n",
    "    "
   ]
  },
  {
   "cell_type": "code",
   "execution_count": 5,
   "id": "7a754793",
   "metadata": {},
   "outputs": [],
   "source": [
    "def q_bh(q_zams, q_zams_min, q_zams_max):\n",
    "\n",
    "    q_min = _q_bh(q_zams_min)\n",
    "    q_max = _q_bh(q_zams_max)\n",
    "    q = _q_bh(q_zams)\n",
    "    \n",
    "    return jnp.where(jnp.less(q, q_min), 0, jnp.where(jnp.greater(q, q_max), 0, q))\n"
   ]
  },
  {
   "cell_type": "code",
   "execution_count": 6,
   "id": "7171e978",
   "metadata": {},
   "outputs": [
    {
     "ename": "NameError",
     "evalue": "name 'q_crit_1' is not defined",
     "output_type": "error",
     "traceback": [
      "\u001b[31m---------------------------------------------------------------------------\u001b[39m",
      "\u001b[31mNameError\u001b[39m                                 Traceback (most recent call last)",
      "\u001b[36mCell\u001b[39m\u001b[36m \u001b[39m\u001b[32mIn[6]\u001b[39m\u001b[32m, line 1\u001b[39m\n\u001b[32m----> \u001b[39m\u001b[32m1\u001b[39m q_zams_min = \u001b[32m1\u001b[39m / \u001b[43mq_crit_1\u001b[49m\n\u001b[32m      2\u001b[39m q_zams_max = fcore * (\u001b[32m1\u001b[39m - fsn_a) * q_crit_2 - beta_a * (\u001b[32m1\u001b[39m - fcore)\n",
      "\u001b[31mNameError\u001b[39m: name 'q_crit_1' is not defined"
     ]
    }
   ],
   "source": [
    "q_zams_min = 1 / q_crit_1\n",
    "q_zams_max = fcore * (1 - fsn_a) * q_crit_2 - beta_a * (1 - fcore)\n",
    "    "
   ]
  },
  {
   "cell_type": "code",
   "execution_count": 7,
   "id": "7c50e850",
   "metadata": {},
   "outputs": [],
   "source": [
    "class q_bh(object):\n",
    "\n",
    "    def __init__(self,\n",
    "                 fsn_a = 0.2,\n",
    "                 fsn_b = 0.2,\n",
    "                 fcore = 0.34\n",
    "                 ):\n",
    "        self.fsn_a = fsn_a\n",
    "        self.fsn_b = fsn_b\n",
    "        self.fcore = fcore\n",
    "        self.q_crit = q_crit()\n",
    "        \n",
    "    def _q_bh(self, q_zams, beta_a):\n",
    "        return ((1 - self.fsn_b) / (1 - self.fsn_a)) * (q_zams + beta_a * (1 - self.fcore))\n",
    "\n",
    "    def __call__(self, q_zams, zeta_eff, beta_a):\n",
    "\n",
    "        q_zams_min = 1 / self.q_crit(zeta_eff, beta_a)\n",
    "        q_zams_max = self.q_crit(zeta_eff, 0.) * self.fcore * (1 - self.fsn_a) - beta_a * (1 - self.fcore)\n",
    "\n",
    "        q_min = _q_bh(q_zams_min)\n",
    "        q_max_1 = _q_bh(q_zams_max)\n",
    "        q_max_2 = _q_bh(1.)\n",
    "        q_max = jnp.min(jnp.array([q_max_1,q_max_2]))\n",
    "        q = _q_bh(q_zams)\n",
    "        print(beta_a * (1 - self.fcore))\n",
    "    \n",
    "        sel = (q > q_min) * (q < q_max)\n",
    "        t = q * (q > q_min) * (q < q_max)\n",
    "        return t[sel], q_zams[sel]\n"
   ]
  },
  {
   "cell_type": "code",
   "execution_count": null,
   "id": "cd23f1f0",
   "metadata": {},
   "outputs": [],
   "source": []
  },
  {
   "cell_type": "code",
   "execution_count": 48,
   "id": "5a2546fd",
   "metadata": {},
   "outputs": [],
   "source": [
    "def p_qobs_from_zams(q, beta, fcore, fsn_a, fsn_b, q_zams_min, q_zams_max):\n",
    "\n",
    "    def q_zams_uniform_pdf(qzams, q_zams_min, q_zams_max):\n",
    "        qmax = jnp.where(jnp.greater(q_zams_max, 1), 1, q_zams_max)\n",
    "        pdf = 1 / (qmax - q_zams_min)\n",
    "        return jnp.where(jnp.less(qzams, q_zams_min) | jnp.greater(qzams, q_zams_max) | jnp.greater(qzams, 1), 0, pdf)\n",
    "\n",
    "    def q_to_qzams(q):\n",
    "        return q * (1-fsn_a)/(1-fsn_b) - beta * (1-fcore)\n",
    "\n",
    "    qzams_A = q_to_qzams(q)\n",
    "    qzams_B = q_to_qzams(1/q)\n",
    "\n",
    "    qA_pdf = q_zams_uniform_pdf(qzams_A, q_zams_min, q_zams_max)\n",
    "    qB_pdf = q_zams_uniform_pdf(qzams_B, q_zams_min, q_zams_max)\n",
    "\n",
    "    dqzams_dq_A = (1-fsn_a)/(1-fsn_b)\n",
    "    dqzams_dq_B = (1/q**2)*(1-fsn_a)/(1-fsn_b)\n",
    "\n",
    "    pdf = qA_pdf * dqzams_dq_A + qB_pdf * dqzams_dq_B\n",
    "\n",
    "    qq = jnp.linspace(q_zams_min, q_zams_max,1000)\n",
    "    Dqzams_dq_B = (1/qq**2)*(1-fsn_a)/(1-fsn_b)\n",
    "    norm_pdf = q_zams_uniform_pdf(qq, q_zams_min, q_zams_max) * dqzams_dq_A + q_zams_uniform_pdf(1/qq, q_zams_min, q_zams_max) * Dqzams_dq_B\n",
    "    norm = jnp.trapezoid(norm_pdf, qq)\n",
    "\n",
    "    return pdf / norm\n",
    "\n",
    "\n",
    "def p_qbh_from_zams(q, beta, fcore, fsn_a, fsn_b, q_zams_min, q_zams_max):\n",
    "\n",
    "    def q_zams_uniform_pdf(qzams, q_zams_min, q_zams_max):\n",
    "        qmax = jnp.where(jnp.greater(q_zams_max, 1), 1, q_zams_max)\n",
    "        pdf = 1 / (qmax - q_zams_min)\n",
    "        return jnp.where(jnp.less(qzams, q_zams_min) | jnp.greater(qzams, q_zams_max) | jnp.greater(qzams, 1), 0, pdf)\n",
    "\n",
    "    def q_to_qzams(q):\n",
    "        return q * (1-fsn_a)/(1-fsn_b) - beta * (1-fcore)\n",
    "\n",
    "    qzams_A = q_to_qzams(q)\n",
    "    # qzams_B = q_to_qzams(1/q)\n",
    "\n",
    "    qA_pdf = q_zams_uniform_pdf(qzams_A, q_zams_min, q_zams_max)\n",
    "    # qB_pdf = q_zams_uniform_pdf(qzams_B, q_zams_min, q_zams_max)\n",
    "\n",
    "    dqzams_dq_A = (1-fsn_a)/(1-fsn_b)\n",
    "    # dqzams_dq_B = (1/q**2)*(1-fsn_a)/(1-fsn_b)\n",
    "\n",
    "    pdf = qA_pdf * dqzams_dq_A # + qB_pdf * dqzams_dq_B\n",
    "\n",
    "    qq = jnp.linspace(q_zams_min, q_zams_max,1000)\n",
    "    # Dqzams_dq_B = (1/qq**2)*(1-fsn_a)/(1-fsn_b)\n",
    "    norm_pdf = q_zams_uniform_pdf(qq, q_zams_min, q_zams_max) * dqzams_dq_A # + q_zams_uniform_pdf(1/qq, q_zams_min, q_zams_max) * Dqzams_dq_B\n",
    "    norm = jnp.trapezoid(norm_pdf, qq)\n",
    "\n",
    "    return pdf / norm"
   ]
  },
  {
   "cell_type": "code",
   "execution_count": 49,
   "id": "e892a189",
   "metadata": {},
   "outputs": [],
   "source": [
    "from ipywidgets import widgets"
   ]
  },
  {
   "cell_type": "code",
   "execution_count": 91,
   "id": "85cf51f9",
   "metadata": {},
   "outputs": [],
   "source": [
    "qobs_s = jnp.linspace(0.01, 1, 1000)\n",
    "qcrit = q_crit()\n",
    "\n",
    "def plot_p_qobs(fsn_a=0.2, fsn_b=0.2, fcore=0.34, β=0.5, ζ=7):\n",
    "    qmin = 1/qcrit(ζ, β)\n",
    "    qmax = fcore * (1 - fsn_a) * qcrit(ζ, 0) - β * (1 - fcore)\n",
    "    ps = p_qobs_from_zams(qobs_s, β, fcore, fsn_a, fsn_b, qmin, qmax)\n",
    "    plt.plot(qobs_s, ps)\n",
    "    norm = jnp.trapezoid(ps, qobs_s)\n",
    "    plt.ylabel(r'$p(q_\\text{obs})$')\n",
    "    plt.xlabel(r'$q_\\text{obs}$')\n",
    "    _, yhigh = plt.ylim()\n",
    "    plt.text(0, yhigh*.95, f\"{norm:.2f}\")\n",
    "\n",
    "qbh_s = jnp.linspace(0.01, 2, 1000)\n",
    "\n",
    "\n",
    "def plot_p_qbh(fsn_a=0.2, fsn_b=0.2, fcore=0.34, β=0.5, ζ=7):\n",
    "    qmin = 1/qcrit(ζ, β)\n",
    "    qmax = fcore * (1 - fsn_a) * qcrit(ζ, 0) - β * (1 - fcore)\n",
    "    ps = p_qbh_from_zams(qbh_s, β, fcore, fsn_a, fsn_b, qmin, qmax)\n",
    "    plt.plot(qbh_s, ps)\n",
    "    norm = jnp.trapezoid(ps, qbh_s)\n",
    "    plt.ylabel(r'$p(q_\\text{BH})$')\n",
    "    plt.xlabel(r'$q_\\text{BH}$')\n",
    "    plt.axvline(1, ls='--', color='k')\n",
    "    _, yhigh = plt.ylim()\n",
    "    plt.text(0, yhigh*.95, f\"{norm:.2f}\")\n",
    "\n",
    "\n",
    "\n",
    "def plot_both(fsn_a=0.2, fsn_b=0.2, fcore=0.34, β=0.5, ζ=7):\n",
    "    plt.figure(figsize=(12, 4))\n",
    "    qmin = 1/qcrit(ζ, β)\n",
    "    qmax = fcore * (1 - fsn_a) * qcrit(ζ, 0) - β * (1 - fcore)\n",
    "    p_qobs = p_qobs_from_zams(qobs_s, β, fcore, fsn_a, fsn_b, qmin, qmax)\n",
    "    p_qbhs = p_qbh_from_zams(qbh_s, β, fcore, fsn_a, fsn_b, qmin, qmax)\n",
    "    plt.plot(qobs_s, p_qobs)\n",
    "    plt.plot(qbh_s, p_qbhs)\n",
    "    plt.axvline(1, ls='--', color='k')\n",
    "    qbh_norm = jnp.trapezoid(p_qbhs, qbh_s)\n",
    "    qobs_norm = jnp.trapezoid(p_qobs, qobs_s)\n",
    "    plt.ylabel(r'$p(q)$')\n",
    "    plt.xlabel(r'$q$')\n",
    "    _, yhigh = plt.ylim()\n",
    "    plt.text(0, yhigh*.95, f\"{qbh_norm:.4f}\")\n",
    "    plt.text(0, yhigh*.9, f\"{qobs_norm:.4f}\")\n"
   ]
  },
  {
   "cell_type": "code",
   "execution_count": 81,
   "id": "5ec0c1ea",
   "metadata": {},
   "outputs": [
    {
     "data": {
      "application/vnd.jupyter.widget-view+json": {
       "model_id": "0d50f87b5d5a45ac878bb2d9eda68dee",
       "version_major": 2,
       "version_minor": 0
      },
      "text/plain": [
       "interactive(children=(FloatSlider(value=0.2, description='fsn_a', max=1.0, step=0.01), FloatSlider(value=0.2, …"
      ]
     },
     "execution_count": 81,
     "metadata": {},
     "output_type": "execute_result"
    }
   ],
   "source": [
    "i_plot = interactive(\n",
    "    plot_p_qobs,\n",
    "    fsn_a=(0, 1, 0.01),\n",
    "    fsn_b=(0, 1, 0.01),\n",
    "    fcore=(0, 1, 0.01),\n",
    "    β=(0, 1, .01),\n",
    "    ζ=(1, 12, .1)\n",
    ")\n",
    "output = i_plot.children[-1]\n",
    "output.layout.height = '380px'\n",
    "i_plot"
   ]
  },
  {
   "cell_type": "code",
   "execution_count": 82,
   "id": "6599b1eb",
   "metadata": {},
   "outputs": [
    {
     "data": {
      "application/vnd.jupyter.widget-view+json": {
       "model_id": "679434ea261f4df09906db13b72a5a14",
       "version_major": 2,
       "version_minor": 0
      },
      "text/plain": [
       "interactive(children=(FloatSlider(value=0.2, description='fsn_a', max=1.0, step=0.01), FloatSlider(value=0.2, …"
      ]
     },
     "execution_count": 82,
     "metadata": {},
     "output_type": "execute_result"
    }
   ],
   "source": [
    "i_plot = interactive(\n",
    "    plot_p_qbh,\n",
    "    fsn_a=(0, 1, 0.01),\n",
    "    fsn_b=(0, 1, 0.01),\n",
    "    fcore=(0, 1, 0.01),\n",
    "    β=(0, 1, .01),\n",
    "    ζ=(1, 12, .1)\n",
    ")\n",
    "output = i_plot.children[-1]\n",
    "output.layout.height = '350px'\n",
    "i_plot"
   ]
  },
  {
   "cell_type": "code",
   "execution_count": null,
   "id": "9b9ed38c",
   "metadata": {},
   "outputs": [
    {
     "data": {
      "application/vnd.jupyter.widget-view+json": {
       "model_id": "e55417893c194b89ae62e600ee40bd2b",
       "version_major": 2,
       "version_minor": 0
      },
      "text/plain": [
       "interactive(children=(FloatSlider(value=0.2, description='fsn_a', max=1.0, step=0.01), FloatSlider(value=0.2, …"
      ]
     },
     "execution_count": 92,
     "metadata": {},
     "output_type": "execute_result"
    }
   ],
   "source": [
    "i_plot = interactive(\n",
    "    plot_both,\n",
    "    fsn_a=(0, 1, 0.01),\n",
    "    fsn_b=(0, 1, 0.01),\n",
    "    fcore=(0, 1, 0.01),\n",
    "    β=(0, 1, .01),\n",
    "    ζ=(1, 12, .1)\n",
    ")\n",
    "output = i_plot.children[-1]\n",
    "output.layout.height = '350px'\n",
    "i_plot"
   ]
  },
  {
   "cell_type": "code",
   "execution_count": null,
   "id": "850a7c3f",
   "metadata": {},
   "outputs": [],
   "source": []
  }
 ],
 "metadata": {
  "kernelspec": {
   "display_name": "smt",
   "language": "python",
   "name": "python3"
  },
  "language_info": {
   "codemirror_mode": {
    "name": "ipython",
    "version": 3
   },
   "file_extension": ".py",
   "mimetype": "text/x-python",
   "name": "python",
   "nbconvert_exporter": "python",
   "pygments_lexer": "ipython3",
   "version": "3.11.11"
  }
 },
 "nbformat": 4,
 "nbformat_minor": 5
}
